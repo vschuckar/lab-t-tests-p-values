{
 "cells": [
  {
   "cell_type": "code",
   "execution_count": 1,
   "id": "a7db6e45-6dde-452d-90eb-04adf3830d84",
   "metadata": {},
   "outputs": [],
   "source": [
    "import pandas as pd\n",
    "import numpy as np\n",
    "import scipy.stats as st"
   ]
  },
  {
   "cell_type": "markdown",
   "id": "f2ed6e64-f5ab-4657-9a2c-696943008a0f",
   "metadata": {
    "editable": true,
    "slideshow": {
     "slide_type": ""
    },
    "tags": []
   },
   "source": [
    "## One-tailed t-test \n",
    "\n",
    "In a packing plant, a machine packs cartons with jars. It is supposed that a new machine will pack faster on average than the machine currently used. \n",
    "\n",
    "To test that hypothesis, the times each machine takes to pack ten cartons are recorded. \n",
    "The results are in seconds in the tables in the file files_for_lab/machine.txt. \n",
    "\n",
    "Assume that there is sufficient evidence to conduct the t-test, does the data provide sufficient evidence to show if one machine is better than the other?\n",
    "\n"
   ]
  },
  {
   "cell_type": "code",
   "execution_count": 2,
   "id": "8f1bd9f2-b0a7-4cd4-b570-6ad4e63fb915",
   "metadata": {},
   "outputs": [
    {
     "data": {
      "text/html": [
       "<div>\n",
       "<style scoped>\n",
       "    .dataframe tbody tr th:only-of-type {\n",
       "        vertical-align: middle;\n",
       "    }\n",
       "\n",
       "    .dataframe tbody tr th {\n",
       "        vertical-align: top;\n",
       "    }\n",
       "\n",
       "    .dataframe thead th {\n",
       "        text-align: right;\n",
       "    }\n",
       "</style>\n",
       "<table border=\"1\" class=\"dataframe\">\n",
       "  <thead>\n",
       "    <tr style=\"text-align: right;\">\n",
       "      <th></th>\n",
       "      <th>New machine</th>\n",
       "      <th>Old machine</th>\n",
       "    </tr>\n",
       "  </thead>\n",
       "  <tbody>\n",
       "    <tr>\n",
       "      <th>0</th>\n",
       "      <td>42.1</td>\n",
       "      <td>42.7</td>\n",
       "    </tr>\n",
       "    <tr>\n",
       "      <th>1</th>\n",
       "      <td>41.0</td>\n",
       "      <td>43.6</td>\n",
       "    </tr>\n",
       "    <tr>\n",
       "      <th>2</th>\n",
       "      <td>41.3</td>\n",
       "      <td>43.8</td>\n",
       "    </tr>\n",
       "    <tr>\n",
       "      <th>3</th>\n",
       "      <td>41.8</td>\n",
       "      <td>43.3</td>\n",
       "    </tr>\n",
       "    <tr>\n",
       "      <th>4</th>\n",
       "      <td>42.4</td>\n",
       "      <td>42.5</td>\n",
       "    </tr>\n",
       "    <tr>\n",
       "      <th>5</th>\n",
       "      <td>42.8</td>\n",
       "      <td>43.5</td>\n",
       "    </tr>\n",
       "    <tr>\n",
       "      <th>6</th>\n",
       "      <td>43.2</td>\n",
       "      <td>43.1</td>\n",
       "    </tr>\n",
       "    <tr>\n",
       "      <th>7</th>\n",
       "      <td>42.3</td>\n",
       "      <td>41.7</td>\n",
       "    </tr>\n",
       "    <tr>\n",
       "      <th>8</th>\n",
       "      <td>41.8</td>\n",
       "      <td>44.0</td>\n",
       "    </tr>\n",
       "    <tr>\n",
       "      <th>9</th>\n",
       "      <td>42.7</td>\n",
       "      <td>44.1</td>\n",
       "    </tr>\n",
       "  </tbody>\n",
       "</table>\n",
       "</div>"
      ],
      "text/plain": [
       "   New machine  Old machine\n",
       "0         42.1         42.7\n",
       "1         41.0         43.6\n",
       "2         41.3         43.8\n",
       "3         41.8         43.3\n",
       "4         42.4         42.5\n",
       "5         42.8         43.5\n",
       "6         43.2         43.1\n",
       "7         42.3         41.7\n",
       "8         41.8         44.0\n",
       "9         42.7         44.1"
      ]
     },
     "execution_count": 2,
     "metadata": {},
     "output_type": "execute_result"
    }
   ],
   "source": [
    "machine_data = pd.read_csv('~/Desktop/data_analytics/Week_7/Day_2/Afternoon/lab-t-tests-p-values/files_for_lab/machine.txt', sep='\\t', encoding='UTF16')\n",
    "machine_data"
   ]
  },
  {
   "cell_type": "markdown",
   "id": "696b720d-4f41-4412-ba3d-be622f6331e7",
   "metadata": {},
   "source": [
    "Ho = avg(time(s)) for new machine ≤ avg(time(s)) for old machine\n",
    "H1 = avg(time(s)) for new machine > avg(time(s)) for old machine"
   ]
  },
  {
   "cell_type": "code",
   "execution_count": 3,
   "id": "ac2fe5e5-52c7-4406-a97a-9a08099f85ef",
   "metadata": {},
   "outputs": [
    {
     "name": "stdout",
     "output_type": "stream",
     "text": [
      "The t statistic of our sample is: -5.04 and the corresponding p-value is: 1.00\n"
     ]
    }
   ],
   "source": [
    "sample = machine_data['New machine']\n",
    "pop_mean = machine_data['Old machine'].mean()\n",
    "t_statistic, p_value = st.ttest_1samp(sample, pop_mean, alternative = \"greater\")\n",
    "print(\"The t statistic of our sample is: {:.2f} and the corresponding p-value is: {:.2f}\".format(t_statistic, p_value))"
   ]
  },
  {
   "cell_type": "markdown",
   "id": "3235a7f8-8e66-45de-bc6f-3dcd2e2fd50a",
   "metadata": {},
   "source": [
    "p-value = 1.00, 𝛼 = 0.05, p-value > 𝛼 therefore we accept H0. \n",
    "\n",
    "In conclusion: Since we cannot reject the null hypothesis, this means that new machine will pack faster on average than the machine currently used."
   ]
  },
  {
   "cell_type": "markdown",
   "id": "97d29435-50a8-41d8-a777-8b1e896c37b2",
   "metadata": {},
   "source": [
    "## Matched Pairs Test\n",
    "\n",
    "In this challenge we will compare dependent samples of data describing our Pokemon (file files_for_lab/pokemon.csv). \n",
    "\n",
    "Our goal is to see whether there is a significant difference between each Pokemon's defense and attack scores. \n",
    "\n",
    "Our hypothesis is that the defense and attack scores are equal. \n",
    "\n",
    "Compare the two columns to see if there is a statistically significant difference between them and comment on your result."
   ]
  },
  {
   "cell_type": "code",
   "execution_count": 4,
   "id": "47d025ab-fec8-4cf6-9ed5-7cef7d5127b5",
   "metadata": {},
   "outputs": [
    {
     "data": {
      "text/html": [
       "<div>\n",
       "<style scoped>\n",
       "    .dataframe tbody tr th:only-of-type {\n",
       "        vertical-align: middle;\n",
       "    }\n",
       "\n",
       "    .dataframe tbody tr th {\n",
       "        vertical-align: top;\n",
       "    }\n",
       "\n",
       "    .dataframe thead th {\n",
       "        text-align: right;\n",
       "    }\n",
       "</style>\n",
       "<table border=\"1\" class=\"dataframe\">\n",
       "  <thead>\n",
       "    <tr style=\"text-align: right;\">\n",
       "      <th></th>\n",
       "      <th>#</th>\n",
       "      <th>Name</th>\n",
       "      <th>Type 1</th>\n",
       "      <th>Type 2</th>\n",
       "      <th>Total</th>\n",
       "      <th>HP</th>\n",
       "      <th>Attack</th>\n",
       "      <th>Defense</th>\n",
       "      <th>Sp. Atk</th>\n",
       "      <th>Sp. Def</th>\n",
       "      <th>Speed</th>\n",
       "      <th>Generation</th>\n",
       "      <th>Legendary</th>\n",
       "    </tr>\n",
       "  </thead>\n",
       "  <tbody>\n",
       "    <tr>\n",
       "      <th>0</th>\n",
       "      <td>1</td>\n",
       "      <td>Bulbasaur</td>\n",
       "      <td>Grass</td>\n",
       "      <td>Poison</td>\n",
       "      <td>318</td>\n",
       "      <td>45</td>\n",
       "      <td>49</td>\n",
       "      <td>49</td>\n",
       "      <td>65</td>\n",
       "      <td>65</td>\n",
       "      <td>45</td>\n",
       "      <td>1</td>\n",
       "      <td>False</td>\n",
       "    </tr>\n",
       "    <tr>\n",
       "      <th>1</th>\n",
       "      <td>2</td>\n",
       "      <td>Ivysaur</td>\n",
       "      <td>Grass</td>\n",
       "      <td>Poison</td>\n",
       "      <td>405</td>\n",
       "      <td>60</td>\n",
       "      <td>62</td>\n",
       "      <td>63</td>\n",
       "      <td>80</td>\n",
       "      <td>80</td>\n",
       "      <td>60</td>\n",
       "      <td>1</td>\n",
       "      <td>False</td>\n",
       "    </tr>\n",
       "    <tr>\n",
       "      <th>2</th>\n",
       "      <td>3</td>\n",
       "      <td>Venusaur</td>\n",
       "      <td>Grass</td>\n",
       "      <td>Poison</td>\n",
       "      <td>525</td>\n",
       "      <td>80</td>\n",
       "      <td>82</td>\n",
       "      <td>83</td>\n",
       "      <td>100</td>\n",
       "      <td>100</td>\n",
       "      <td>80</td>\n",
       "      <td>1</td>\n",
       "      <td>False</td>\n",
       "    </tr>\n",
       "    <tr>\n",
       "      <th>3</th>\n",
       "      <td>3</td>\n",
       "      <td>VenusaurMega Venusaur</td>\n",
       "      <td>Grass</td>\n",
       "      <td>Poison</td>\n",
       "      <td>625</td>\n",
       "      <td>80</td>\n",
       "      <td>100</td>\n",
       "      <td>123</td>\n",
       "      <td>122</td>\n",
       "      <td>120</td>\n",
       "      <td>80</td>\n",
       "      <td>1</td>\n",
       "      <td>False</td>\n",
       "    </tr>\n",
       "    <tr>\n",
       "      <th>4</th>\n",
       "      <td>4</td>\n",
       "      <td>Charmander</td>\n",
       "      <td>Fire</td>\n",
       "      <td>NaN</td>\n",
       "      <td>309</td>\n",
       "      <td>39</td>\n",
       "      <td>52</td>\n",
       "      <td>43</td>\n",
       "      <td>60</td>\n",
       "      <td>50</td>\n",
       "      <td>65</td>\n",
       "      <td>1</td>\n",
       "      <td>False</td>\n",
       "    </tr>\n",
       "  </tbody>\n",
       "</table>\n",
       "</div>"
      ],
      "text/plain": [
       "   #                   Name Type 1  Type 2  Total  HP  Attack  Defense  \\\n",
       "0  1              Bulbasaur  Grass  Poison    318  45      49       49   \n",
       "1  2                Ivysaur  Grass  Poison    405  60      62       63   \n",
       "2  3               Venusaur  Grass  Poison    525  80      82       83   \n",
       "3  3  VenusaurMega Venusaur  Grass  Poison    625  80     100      123   \n",
       "4  4             Charmander   Fire     NaN    309  39      52       43   \n",
       "\n",
       "   Sp. Atk  Sp. Def  Speed  Generation  Legendary  \n",
       "0       65       65     45           1      False  \n",
       "1       80       80     60           1      False  \n",
       "2      100      100     80           1      False  \n",
       "3      122      120     80           1      False  \n",
       "4       60       50     65           1      False  "
      ]
     },
     "execution_count": 4,
     "metadata": {},
     "output_type": "execute_result"
    }
   ],
   "source": [
    "pokemon = pd.read_csv('~/Desktop/data_analytics/Week_7/Day_2/Afternoon/lab-t-tests-p-values/files_for_lab/pokemon.csv')\n",
    "pokemon.head()"
   ]
  },
  {
   "cell_type": "code",
   "execution_count": 5,
   "id": "f265242f-28cd-413e-84ac-b80b5cc3ab7c",
   "metadata": {},
   "outputs": [
    {
     "data": {
      "text/plain": [
       "(800, 13)"
      ]
     },
     "execution_count": 5,
     "metadata": {},
     "output_type": "execute_result"
    }
   ],
   "source": [
    "pokemon.shape"
   ]
  },
  {
   "cell_type": "markdown",
   "id": "d981fc79-f15f-4082-bf71-8ef0ba48f79e",
   "metadata": {},
   "source": [
    "Ho = attack = defense scores\n",
    "\n",
    "H1 = attack ≠ defense scores\n",
    "\n",
    "Given the unequality on the alternative: \"two-sided\" test"
   ]
  },
  {
   "cell_type": "code",
   "execution_count": 6,
   "id": "387800f4-b07a-4a2f-bb07-9030d2d0ac38",
   "metadata": {},
   "outputs": [
    {
     "name": "stdout",
     "output_type": "stream",
     "text": [
      "The t statistic of our sample is: 4.33 and the corresponding p-value is: 0.000\n"
     ]
    }
   ],
   "source": [
    "t_statistic, p_value = st.ttest_rel(pokemon['Attack'], pokemon['Defense'])\n",
    "print(\"The t statistic of our sample is: {:.2f} and the corresponding p-value is: {:.3f}\".format(t_statistic, p_value))"
   ]
  },
  {
   "cell_type": "markdown",
   "id": "690f2283-8751-4629-8b92-b7bf2b331aa8",
   "metadata": {},
   "source": [
    "p-value = 0.000, 𝛼 = 0.05/2, p-value < 𝛼 therefore we reject H0.\n",
    "\n",
    "In conclusion: Since we can reject the null hypothesis, this means that there is a statistically significant difference between the columns \"Attack\" and \"Defense\"."
   ]
  },
  {
   "cell_type": "markdown",
   "id": "80cd321b-3cc4-4dbf-aa9f-46fdda63f440",
   "metadata": {},
   "source": [
    "## ANOVA \n",
    "\n",
    "Your task is to understand the problem and write down all the steps to set up ANOVA\n",
    "\n",
    "#### Part I:\n",
    "\n",
    "Suppose you are working as an analyst in a microprocessor chip manufacturing plant. You have been given the task of analyzing a plasma etching process with respect to changing Power (in Watts) of the plasma beam. \n",
    "\n",
    "Data was collected and provided to you to conduct statistical analysis and **check if changing the power of the plasma beam has any effect on the etching rate by the machine**. \n",
    "\n",
    "You will conduct ANOVA and check if there is **any difference in the mean etching rate for different levels of power**. \n",
    "\n",
    "- State the null hypothesis\n",
    "- State the alternate hypothesis\n",
    "- What is the significance level\n",
    "- What are the degrees of freedom of the model, error terms, and total DoF\n"
   ]
  },
  {
   "cell_type": "markdown",
   "id": "0af7c647-2d65-441e-ad1e-596255f0877d",
   "metadata": {},
   "source": [
    "**State the null hypothesis.**\n",
    "\n",
    "Ho: μ(etching rate)1 = μ(etching rate)2 ...\n",
    "\n",
    "Ho = the mean etching rate for different levels of power is the same"
   ]
  },
  {
   "cell_type": "markdown",
   "id": "1cf60d4e-fa5e-4bf3-a5f0-b7e951ebe535",
   "metadata": {},
   "source": [
    "**State the alternate hypothesis.**\n",
    "\n",
    "H1: μ(etching rate)1 ≠ μ(etching rate)2 ...\n",
    "\n",
    "H1 = the mean etching rate for different levels of power is different "
   ]
  },
  {
   "cell_type": "markdown",
   "id": "6986ca38-1a42-4543-95c8-924664ea6376",
   "metadata": {},
   "source": [
    "**What is the significance level?** \n",
    "\n",
    "95% confidence level therefore 𝛼 = 0.05"
   ]
  },
  {
   "cell_type": "markdown",
   "id": "521ede58-b11f-4125-a171-5e9e72904b4d",
   "metadata": {},
   "source": [
    "**What are the degrees of freedom of the model, error terms, and total DoF?**\n",
    "\n",
    "Degrees of freedom of the model: \n",
    "\n",
    "dof1 = K - 1         (K being the number of groups)\n",
    "\n",
    "dof2 = N - K         (N being the number of observations)\n",
    "\n",
    "Error terms:\n",
    "\n",
    "SST and SSE\n",
    "\n",
    "Total DoF:\n",
    "\n",
    "total_dof = dof1 + dof2\n"
   ]
  },
  {
   "cell_type": "markdown",
   "id": "0d0adf06-343a-4f61-affe-d562ef2c515e",
   "metadata": {},
   "source": [
    "#### Part II:\n",
    "\n",
    "In this section, use Python to conduct ANOVA.\n",
    "\n",
    "What conclusions can you draw from the experiment and why?"
   ]
  },
  {
   "cell_type": "code",
   "execution_count": 7,
   "id": "d870f085-3ff3-4060-a225-820be36b4b03",
   "metadata": {},
   "outputs": [
    {
     "data": {
      "text/html": [
       "<div>\n",
       "<style scoped>\n",
       "    .dataframe tbody tr th:only-of-type {\n",
       "        vertical-align: middle;\n",
       "    }\n",
       "\n",
       "    .dataframe tbody tr th {\n",
       "        vertical-align: top;\n",
       "    }\n",
       "\n",
       "    .dataframe thead th {\n",
       "        text-align: right;\n",
       "    }\n",
       "</style>\n",
       "<table border=\"1\" class=\"dataframe\">\n",
       "  <thead>\n",
       "    <tr style=\"text-align: right;\">\n",
       "      <th></th>\n",
       "      <th>Power</th>\n",
       "      <th>Etching Rate</th>\n",
       "    </tr>\n",
       "  </thead>\n",
       "  <tbody>\n",
       "    <tr>\n",
       "      <th>0</th>\n",
       "      <td>160 W</td>\n",
       "      <td>5.43</td>\n",
       "    </tr>\n",
       "    <tr>\n",
       "      <th>1</th>\n",
       "      <td>180 W</td>\n",
       "      <td>6.24</td>\n",
       "    </tr>\n",
       "    <tr>\n",
       "      <th>2</th>\n",
       "      <td>200 W</td>\n",
       "      <td>8.79</td>\n",
       "    </tr>\n",
       "    <tr>\n",
       "      <th>3</th>\n",
       "      <td>160 W</td>\n",
       "      <td>5.71</td>\n",
       "    </tr>\n",
       "    <tr>\n",
       "      <th>4</th>\n",
       "      <td>180 W</td>\n",
       "      <td>6.71</td>\n",
       "    </tr>\n",
       "    <tr>\n",
       "      <th>5</th>\n",
       "      <td>200 W</td>\n",
       "      <td>9.20</td>\n",
       "    </tr>\n",
       "    <tr>\n",
       "      <th>6</th>\n",
       "      <td>160 W</td>\n",
       "      <td>6.22</td>\n",
       "    </tr>\n",
       "    <tr>\n",
       "      <th>7</th>\n",
       "      <td>180 W</td>\n",
       "      <td>5.98</td>\n",
       "    </tr>\n",
       "    <tr>\n",
       "      <th>8</th>\n",
       "      <td>200 W</td>\n",
       "      <td>7.90</td>\n",
       "    </tr>\n",
       "    <tr>\n",
       "      <th>9</th>\n",
       "      <td>160 W</td>\n",
       "      <td>6.01</td>\n",
       "    </tr>\n",
       "    <tr>\n",
       "      <th>10</th>\n",
       "      <td>180 W</td>\n",
       "      <td>5.66</td>\n",
       "    </tr>\n",
       "    <tr>\n",
       "      <th>11</th>\n",
       "      <td>200 W</td>\n",
       "      <td>8.15</td>\n",
       "    </tr>\n",
       "    <tr>\n",
       "      <th>12</th>\n",
       "      <td>160 W</td>\n",
       "      <td>5.59</td>\n",
       "    </tr>\n",
       "    <tr>\n",
       "      <th>13</th>\n",
       "      <td>180 W</td>\n",
       "      <td>6.60</td>\n",
       "    </tr>\n",
       "    <tr>\n",
       "      <th>14</th>\n",
       "      <td>200 W</td>\n",
       "      <td>7.55</td>\n",
       "    </tr>\n",
       "  </tbody>\n",
       "</table>\n",
       "</div>"
      ],
      "text/plain": [
       "   Power   Etching Rate\n",
       "0   160 W          5.43\n",
       "1   180 W          6.24\n",
       "2   200 W          8.79\n",
       "3   160 W          5.71\n",
       "4   180 W          6.71\n",
       "5   200 W          9.20\n",
       "6   160 W          6.22\n",
       "7   180 W          5.98\n",
       "8   200 W          7.90\n",
       "9   160 W          6.01\n",
       "10  180 W          5.66\n",
       "11  200 W          8.15\n",
       "12  160 W          5.59\n",
       "13  180 W          6.60\n",
       "14  200 W          7.55"
      ]
     },
     "execution_count": 7,
     "metadata": {},
     "output_type": "execute_result"
    }
   ],
   "source": [
    "plasma = pd.read_excel('~/Desktop/data_analytics/Week_7/Day_2/Afternoon/lab-t-tests-p-values/files_for_lab/anova_lab_data.xlsx')\n",
    "plasma"
   ]
  },
  {
   "cell_type": "code",
   "execution_count": 8,
   "id": "5085c29f-de43-4721-b119-3e80ae20c099",
   "metadata": {},
   "outputs": [
    {
     "data": {
      "text/html": [
       "<div>\n",
       "<style scoped>\n",
       "    .dataframe tbody tr th:only-of-type {\n",
       "        vertical-align: middle;\n",
       "    }\n",
       "\n",
       "    .dataframe tbody tr th {\n",
       "        vertical-align: top;\n",
       "    }\n",
       "\n",
       "    .dataframe thead th {\n",
       "        text-align: right;\n",
       "    }\n",
       "</style>\n",
       "<table border=\"1\" class=\"dataframe\">\n",
       "  <thead>\n",
       "    <tr style=\"text-align: right;\">\n",
       "      <th></th>\n",
       "      <th>Power</th>\n",
       "      <th>power_mean</th>\n",
       "      <th>samples</th>\n",
       "    </tr>\n",
       "  </thead>\n",
       "  <tbody>\n",
       "    <tr>\n",
       "      <th>0</th>\n",
       "      <td>160 W</td>\n",
       "      <td>5.792</td>\n",
       "      <td>5</td>\n",
       "    </tr>\n",
       "    <tr>\n",
       "      <th>1</th>\n",
       "      <td>180 W</td>\n",
       "      <td>6.238</td>\n",
       "      <td>5</td>\n",
       "    </tr>\n",
       "    <tr>\n",
       "      <th>2</th>\n",
       "      <td>200 W</td>\n",
       "      <td>8.318</td>\n",
       "      <td>5</td>\n",
       "    </tr>\n",
       "  </tbody>\n",
       "</table>\n",
       "</div>"
      ],
      "text/plain": [
       "  Power   power_mean  samples\n",
       "0  160 W       5.792        5\n",
       "1  180 W       6.238        5\n",
       "2  200 W       8.318        5"
      ]
     },
     "execution_count": 8,
     "metadata": {},
     "output_type": "execute_result"
    }
   ],
   "source": [
    "group_df = plasma.groupby('Power ')['Etching Rate'].agg(power_mean = 'mean', samples = 'size').reset_index()\n",
    "group_df"
   ]
  },
  {
   "cell_type": "code",
   "execution_count": 9,
   "id": "8d7f149c-3140-4bcb-b869-0e2103bfee5f",
   "metadata": {},
   "outputs": [
    {
     "name": "stdout",
     "output_type": "stream",
     "text": [
      "The value of S2T is 9.09\n"
     ]
    }
   ],
   "source": [
    "# The variance of the group means from the global mean\n",
    "\n",
    "S2T = 0\n",
    "for power in plasma['Power '].unique():\n",
    "    num_members_group = len(plasma[plasma['Power '] == power])\n",
    "    S2T += num_members_group * ((plasma[plasma['Power '] == power]['Etching Rate'].mean() - plasma['Etching Rate'].mean()) ** 2)\n",
    "S2T /= (plasma['Power '].nunique() - 1)\n",
    "\n",
    "print(\"The value of S2T is {:.2f}\".format(S2T))"
   ]
  },
  {
   "cell_type": "code",
   "execution_count": 10,
   "id": "790c2391-9017-4c1f-8eb6-977e283db1b1",
   "metadata": {},
   "outputs": [
    {
     "name": "stdout",
     "output_type": "stream",
     "text": [
      "The value of S2E is 0.25\n"
     ]
    }
   ],
   "source": [
    "# The variance of the values against the global mean\n",
    "\n",
    "S2E = 0\n",
    "for power in plasma['Power '].unique():\n",
    "    for rate in plasma[plasma['Power '] == power]['Etching Rate']:\n",
    "        S2E += (rate - plasma[plasma['Power '] == power]['Etching Rate'].mean()) ** 2\n",
    "S2E /= ( len(plasma) - plasma['Power '].nunique())\n",
    "\n",
    "print(\"The value of S2E is {:.2f}\".format(S2E))"
   ]
  },
  {
   "cell_type": "code",
   "execution_count": 11,
   "id": "fd6561b3-d2e3-43fa-bbf9-2414226a0c88",
   "metadata": {},
   "outputs": [
    {
     "name": "stdout",
     "output_type": "stream",
     "text": [
      "The value of F is 36.88\n"
     ]
    }
   ],
   "source": [
    "# F value (ratio of the variances)\n",
    "\n",
    "F = S2T/S2E\n",
    "print(\"The value of F is {:.2f}\".format(F))"
   ]
  },
  {
   "cell_type": "code",
   "execution_count": 12,
   "id": "5571904e-000b-461a-bacc-acabf0a78ffe",
   "metadata": {},
   "outputs": [
    {
     "name": "stdout",
     "output_type": "stream",
     "text": [
      "Number of degrees of freedom d1: 2\n",
      "Number of degrees of freedom d2: 12\n"
     ]
    }
   ],
   "source": [
    "# Degrees of freedom value\n",
    "\n",
    "dof1 = plasma['Power '].nunique() - 1\n",
    "dof2 = len(plasma) - plasma['Power '].nunique()\n",
    "\n",
    "print(\"Number of degrees of freedom d1:\", dof1)\n",
    "print(\"Number of degrees of freedom d2:\", dof2)"
   ]
  },
  {
   "cell_type": "code",
   "execution_count": 13,
   "id": "03771d25-ede8-4999-9d1e-d35b1f6fda2e",
   "metadata": {},
   "outputs": [
    {
     "data": {
      "text/plain": [
       "0.9999924934157276"
      ]
     },
     "execution_count": 13,
     "metadata": {},
     "output_type": "execute_result"
    }
   ],
   "source": [
    "# The probability to get any F value lower or equal to F can be obtained with the CDF\n",
    "\n",
    "st.f.cdf(F, dfn = dof1, dfd = dof2)"
   ]
  },
  {
   "cell_type": "code",
   "execution_count": 14,
   "id": "fc9e3e1a-c2c8-4394-85ee-28d513788c20",
   "metadata": {},
   "outputs": [
    {
     "data": {
      "text/plain": [
       "7.5065842723986975e-06"
      ]
     },
     "execution_count": 14,
     "metadata": {},
     "output_type": "execute_result"
    }
   ],
   "source": [
    "# The probability to get a value bigger than F\n",
    "\n",
    "1 - st.f.cdf(F, dfn = dof1, dfd = dof2)"
   ]
  },
  {
   "cell_type": "code",
   "execution_count": 15,
   "id": "f4fe503b-f236-4ad0-bc71-980409fad358",
   "metadata": {},
   "outputs": [
    {
     "name": "stdout",
     "output_type": "stream",
     "text": [
      "The critical value which corresponds to an area of 0.05 is: 3.89\n"
     ]
    }
   ],
   "source": [
    "# The critical value which corresponds to an area of 0.05\n",
    "\n",
    "f_crit = st.f.ppf(1-0.05, dfn = dof1, dfd = dof2)\n",
    "\n",
    "print(\"The critical value which corresponds to an area of 0.05 is: {:.2f}\".format(f_crit))"
   ]
  },
  {
   "cell_type": "markdown",
   "id": "cd238af9-403b-447b-a0e6-234d9042ef47",
   "metadata": {},
   "source": [
    "**In summary:**\n",
    "\n",
    "S2T = 9.09\n",
    "\n",
    "S2E = 0.25 - then use both to calculate F:\n",
    "\n",
    "F = 36.88\n",
    "\n",
    "Number of degrees of freedom d1: 2\n",
    "\n",
    "Number of degrees of freedom d2: 12\n",
    "\n",
    "probability to get value ≤ F: 0.999\n",
    "\n",
    "probability to get value > F: 7.5e-06 \n",
    "\n",
    "The critical value which corresponds to an area of 0.05 is: 3.89\n",
    "\n",
    "As our F is bigger than the critical value, F > f_crit (36.88>3.89) **we reject H0**\n",
    "\n",
    "value > F: 7.5e-06 = 7.5e-06 < 0.05 **we reject H0**\n",
    "\n",
    "The Ho was: Ho = the mean etching rate for different levels of power is the same\n",
    "\n",
    "Since we can reject it, it means that changing the power of the plasma beam has an effect on the etching rate by the machine\n"
   ]
  },
  {
   "cell_type": "code",
   "execution_count": 16,
   "id": "97e45533-e06b-40c6-b4f1-e5b793d03a8f",
   "metadata": {},
   "outputs": [
    {
     "name": "stdout",
     "output_type": "stream",
     "text": [
      "The t statistic of our sample is: 36.88 and the corresponding p-value is: 0.000\n"
     ]
    }
   ],
   "source": [
    "# doing by the spicy function\n",
    "\n",
    "t_statistic, p_value = st.f_oneway(plasma[plasma['Power '] == '160 W']['Etching Rate'], plasma[plasma['Power '] == '180 W']['Etching Rate'], \n",
    "plasma[plasma['Power '] == '200 W']['Etching Rate'])\n",
    "\n",
    "print(\"The t statistic of our sample is: {:.2f} and the corresponding p-value is: {:.3f}\".format(t_statistic, p_value))"
   ]
  },
  {
   "cell_type": "markdown",
   "id": "38a8d7a8-0354-4264-9da1-a1f8e5a96029",
   "metadata": {},
   "source": [
    "The above match the previous findings\n",
    "p_value is 0.000 < 0.05 -> **we reject the H0**"
   ]
  },
  {
   "cell_type": "code",
   "execution_count": null,
   "id": "5d9692a4-bb5e-421a-8a06-6fc6e33a14b0",
   "metadata": {},
   "outputs": [],
   "source": []
  }
 ],
 "metadata": {
  "kernelspec": {
   "display_name": "Python 3 (ipykernel)",
   "language": "python",
   "name": "python3"
  },
  "language_info": {
   "codemirror_mode": {
    "name": "ipython",
    "version": 3
   },
   "file_extension": ".py",
   "mimetype": "text/x-python",
   "name": "python",
   "nbconvert_exporter": "python",
   "pygments_lexer": "ipython3",
   "version": "3.11.7"
  }
 },
 "nbformat": 4,
 "nbformat_minor": 5
}
